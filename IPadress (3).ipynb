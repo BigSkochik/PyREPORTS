{
 "cells": [
  {
   "cell_type": "markdown",
   "metadata": {},
   "source": [
    "Модуль ipadress позволяет работать с ip-адресами, как с объектами\n",
    "\n",
    "Мой айпишник - 178.176.164.201 узнать свой айпи можно с помощью сервиса: https://ifconfig.me"
   ]
  },
  {
   "cell_type": "code",
   "execution_count": 4,
   "metadata": {},
   "outputs": [
    {
     "data": {
      "text/plain": [
       "IPv4Address('178.176.164.201')"
      ]
     },
     "execution_count": 4,
     "metadata": {},
     "output_type": "execute_result"
    }
   ],
   "source": [
    "from ipaddress import IPv4Address\n",
    "\n",
    "addr = IPv4Address(\"178.176.164.201\")\n",
    "addr"
   ]
  },
  {
   "cell_type": "markdown",
   "metadata": {},
   "source": [
    "Данный модуль так же позволяет получать айпиадреса в виде int и байтовых значений"
   ]
  },
  {
   "cell_type": "code",
   "execution_count": 5,
   "metadata": {},
   "outputs": [
    {
     "data": {
      "text/plain": [
       "IPv4Address('220.14.9.37')"
      ]
     },
     "execution_count": 5,
     "metadata": {},
     "output_type": "execute_result"
    }
   ],
   "source": [
    "addr = IPv4Address(3691907365)  # From an int\n",
    "addr"
   ]
  },
  {
   "cell_type": "code",
   "execution_count": 6,
   "metadata": {},
   "outputs": [
    {
     "data": {
      "text/plain": [
       "IPv4Address('220.14.9.37')"
      ]
     },
     "execution_count": 6,
     "metadata": {},
     "output_type": "execute_result"
    }
   ],
   "source": [
    "addr = IPv4Address(b\"\\xdc\\x0e\\t%\")  # From bytes (packed form)\n",
    "addr"
   ]
  },
  {
   "cell_type": "markdown",
   "metadata": {},
   "source": [
    "Вышеупомянутые преобразования возможны и в другом направлении. Значит, мы можем распаковывать адрес в удобную нам форму:"
   ]
  },
  {
   "cell_type": "code",
   "execution_count": 7,
   "metadata": {},
   "outputs": [
    {
     "data": {
      "text/plain": [
       "3691907365"
      ]
     },
     "execution_count": 7,
     "metadata": {},
     "output_type": "execute_result"
    }
   ],
   "source": [
    "int(addr)"
   ]
  },
  {
   "cell_type": "code",
   "execution_count": 8,
   "metadata": {},
   "outputs": [
    {
     "data": {
      "text/plain": [
       "b'\\xdc\\x0e\\t%'"
      ]
     },
     "execution_count": 8,
     "metadata": {},
     "output_type": "execute_result"
    }
   ],
   "source": [
    "addr.packed"
   ]
  },
  {
   "cell_type": "markdown",
   "metadata": {},
   "source": [
    "Кроме того, что модуль ipadress позволяет работать с айпи адресом, как с классом с возможностью двустороннего ввода и вывода для различных типов Python, экземпляры класса IPv4Addressтакже могут быть хешированы, что дает возможность использовать их в качестве ключей в словаре:"
   ]
  },
  {
   "cell_type": "code",
   "execution_count": 9,
   "metadata": {},
   "outputs": [
    {
     "data": {
      "text/plain": [
       "-4203356137109932172"
      ]
     },
     "execution_count": 9,
     "metadata": {},
     "output_type": "execute_result"
    }
   ],
   "source": [
    "hash(IPv4Address(\"220.14.9.37\"))\n"
   ]
  },
  {
   "cell_type": "code",
   "execution_count": 15,
   "metadata": {},
   "outputs": [
    {
     "data": {
      "text/plain": [
       "{IPv4Address('220.14.9.37'): 2,\n",
       " IPv4Address('100.201.0.4'): 16,\n",
       " IPv4Address('8.240.12.2'): 4}"
      ]
     },
     "execution_count": 15,
     "metadata": {},
     "output_type": "execute_result"
    }
   ],
   "source": [
    "num_connections = {\n",
    "     IPv4Address(\"220.14.9.37\"): 2,\n",
    "     IPv4Address(\"100.201.0.4\"): 16,\n",
    "     IPv4Address(\"8.240.12.2\"): 4\n",
    "}\n",
    "num_connections"
   ]
  },
  {
   "cell_type": "markdown",
   "metadata": {},
   "source": [
    "Это означает, что их можно индексировать так:"
   ]
  },
  {
   "cell_type": "code",
   "execution_count": null,
   "metadata": {},
   "outputs": [],
   "source": [
    ">>> net4[1]\n",
    "IPv4Address('192.0.2.1')\n",
    ">>> net4[-1]\n",
    "IPv4Address('192.0.2.255')\n",
    ">>> net6[1]\n",
    "IPv6Address('2001:db8::1')\n",
    ">>> net6[-1]\n",
    "IPv6Address('2001:db8::ffff:ffff')"
   ]
  },
  {
   "cell_type": "markdown",
   "metadata": {},
   "source": [
    "Вдобавок к этому в модуле IPv4Address реализованы методы, позволяющие проводить сравнения:"
   ]
  },
  {
   "cell_type": "code",
   "execution_count": 22,
   "metadata": {},
   "outputs": [
    {
     "data": {
      "text/plain": [
       "True"
      ]
     },
     "execution_count": 22,
     "metadata": {},
     "output_type": "execute_result"
    }
   ],
   "source": [
    "IPv4Address(\"220.14.9.37\") > IPv4Address(\"8.240.12.2\")"
   ]
  },
  {
   "cell_type": "code",
   "execution_count": 23,
   "metadata": {},
   "outputs": [
    {
     "name": "stdout",
     "output_type": "stream",
     "text": [
      "8.240.12.2\n",
      "100.201.0.4\n",
      "220.14.9.37\n"
     ]
    }
   ],
   "source": [
    "addrs = (\n",
    "     IPv4Address(\"220.14.9.37\"),\n",
    "     IPv4Address(\"8.240.12.2\"),\n",
    "     IPv4Address(\"100.201.0.4\"),\n",
    " )\n",
    "for a in sorted(addrs):\n",
    "    print(a)"
   ]
  },
  {
   "cell_type": "markdown",
   "metadata": {},
   "source": [
    "Допустимо использовать любой из стандартных операторов сравнения целочисленных\n",
    "значений обьектов класса: ==, !=, <, <=, >, >="
   ]
  },
  {
   "cell_type": "markdown",
   "metadata": {},
   "source": [
    "<h1> <b> Определение сетей </b> </h1>\n",
    "Адреса узлов обычно группируются в IP-сети, поэтому модуль ipaddress предоставляет способ создания, проверки и управления определениями сетей. Объекты IP-сети создаются из строки, которые определяют диапазон адресов узлов, входящих в эту сеть. Простейшей формой для этой информации является пара «сетевой адрес/сетевой префикс», где префикс определяет количество ведущих битов, которые сравниваются для определения того, является ли адрес частью сети, и сетевой адрес определяет ожидаемое значение этих битов."
   ]
  },
  {
   "cell_type": "markdown",
   "metadata": {},
   "source": [
    "Что касается адресов, то предусмотрена функция, которая автоматически определяет правильную версию IP протокола:"
   ]
  },
  {
   "cell_type": "code",
   "execution_count": 47,
   "metadata": {},
   "outputs": [
    {
     "data": {
      "text/plain": [
       "IPv6Network('2001:db8::/96')"
      ]
     },
     "execution_count": 47,
     "metadata": {},
     "output_type": "execute_result"
    }
   ],
   "source": [
    ">>> from ipaddress import IPv4Network\n",
    ">>> ipaddress.ip_network('192.0.2.0/24')\n",
    "IPv4Network('192.0.2.0/24')\n",
    ">>> ipaddress.ip_network('2001:db8::0/96')"
   ]
  },
  {
   "cell_type": "markdown",
   "metadata": {},
   "source": [
    "Сетевые объекты не могут иметь заданные биты сетевого префикса. \n",
    "Суть в том, что 192.0.2.1/24 не описывает сеть. Такие определения упоминаются, поскольку IP адресов на сетевом уровне  не достаточно для описания сетевых интерфейсы компьютера в данной сети. Подробнее о подсетях поговорим далее.\n",
    "\n",
    "По умолчанию попытка создать сетевой объект с содердащего биты хоста приведет к ValueError. Поэтому при обращении к обьекту в подсети необходимо, чтобы дополнительные биты были принудительно приравнены к  логическому нулю. Для этого флаг strict=False может быть передан  следующим образом:"
   ]
  },
  {
   "cell_type": "code",
   "execution_count": null,
   "metadata": {},
   "outputs": [],
   "source": [
    ">>> ipaddress.ip_network('192.0.2.1/24')\n",
    "Traceback (most recent call last):\n",
    "   ...\n",
    "ValueError: 192.0.2.1/24 has host bits set\n",
    ">>> ipaddress.ip_network('192.0.2.1/24', strict=False)\n",
    "IPv4Network('192.0.2.0/24')"
   ]
  },
  {
   "cell_type": "markdown",
   "metadata": {},
   "source": [
    "Несмотря на то, что  форма строки предлагает значительно большую гибкость, сети также могут быть определены целыми числами, так же как адреса узлов. В этом случае считается, что сеть содержит только один адрес, идентифицированный целым числом, поэтому сетевой префикс включает в себя весь сетевой адрес:"
   ]
  },
  {
   "cell_type": "code",
   "execution_count": null,
   "metadata": {},
   "outputs": [],
   "source": [
    ">>> ipaddress.ip_network(3221225984)\n",
    "IPv4Network('192.0.2.0/32')\n",
    ">>> ipaddress.ip_network(42540766411282592856903984951653826560)\n",
    "IPv6Network('2001:db8::/128')"
   ]
  },
  {
   "cell_type": "markdown",
   "metadata": {},
   "source": [
    "Как и в случае с адресами, создание определенного вида сети может быть принудительно выполнено путем прямого вызова конструктора класса вместо использования стандартной функции."
   ]
  },
  {
   "cell_type": "markdown",
   "metadata": {},
   "source": [
    "<h2> <b> Обозначение CIDR </b> </h2>\n",
    "Сеть определяется с использованием сетевого адреса и префикса в нотации бесклассовой междоменной маршрутизации (CIDR) :\n",
    "\n"
   ]
  },
  {
   "cell_type": "code",
   "execution_count": 48,
   "metadata": {},
   "outputs": [
    {
     "data": {
      "text/plain": [
       "256"
      ]
     },
     "execution_count": 48,
     "metadata": {},
     "output_type": "execute_result"
    }
   ],
   "source": [
    ">>> from ipaddress import IPv4Network\n",
    ">>> net = IPv4Network(\"192.4.2.0/24\")\n",
    ">>> net.num_addresses"
   ]
  },
  {
   "cell_type": "markdown",
   "metadata": {},
   "source": [
    "Обозначение CIDR представляет сеть как <network_address>/<prefix>. Маршрутизации префикс (или длина префикса , или просто префикс ), который в данном случае 24, является счетчиком ведущих бит , используемых для ответа на вопросы , такие как ли определенный адрес является частью сети или сколько адреса находится в сети. (Здесь ведущие биты относятся к первым N битам, считая слева от целого числа в двоичном формате.)"
   ]
  },
  {
   "cell_type": "code",
   "execution_count": 26,
   "metadata": {},
   "outputs": [
    {
     "data": {
      "text/plain": [
       "256"
      ]
     },
     "execution_count": 26,
     "metadata": {},
     "output_type": "execute_result"
    }
   ],
   "source": [
    ">>> from ipaddress import IPv4Network\n",
    ">>> net = IPv4Network(\"192.4.2.0/24\")\n",
    ">>> net.num_addresses"
   ]
  },
  {
   "cell_type": "markdown",
   "metadata": {},
   "source": [
    "Вы можете найти префикс маршрутизации в .prefixlenсвойстве:"
   ]
  },
  {
   "cell_type": "code",
   "execution_count": 27,
   "metadata": {},
   "outputs": [
    {
     "data": {
      "text/plain": [
       "24"
      ]
     },
     "execution_count": 27,
     "metadata": {},
     "output_type": "execute_result"
    }
   ],
   "source": [
    ">>> net.prefixlen"
   ]
  },
  {
   "cell_type": "markdown",
   "metadata": {},
   "source": [
    "Пример: входит ли адрес 168.4.3.12 в сеть 168.4.3.0/24?\n",
    "\n",
    "Ответ: да, так как ведущие 24 бита адреса 168.4.3.12 – это первые три октета: 168.4.3. Последний октет соответствует последним 8 битам 32-битного IP-адреса.\n"
   ]
  },
  {
   "cell_type": "code",
   "execution_count": 55,
   "metadata": {},
   "outputs": [
    {
     "data": {
      "text/plain": [
       "True"
      ]
     },
     "execution_count": 55,
     "metadata": {},
     "output_type": "execute_result"
    }
   ],
   "source": [
    ">>> net = IPv4Network(\"168.4.3.0/24\")\n",
    "\n",
    ">>> IPv4Address(\"168.4.3.12\") in net"
   ]
  },
  {
   "cell_type": "markdown",
   "metadata": {},
   "source": [
    "Таже существует команда netmask для маскирования битов в сравниваемых адресах.\n"
   ]
  },
  {
   "cell_type": "code",
   "execution_count": 28,
   "metadata": {},
   "outputs": [
    {
     "data": {
      "text/plain": [
       "IPv4Address('255.255.255.0')"
      ]
     },
     "execution_count": 28,
     "metadata": {},
     "output_type": "execute_result"
    }
   ],
   "source": [
    ">>> net.netmask"
   ]
  },
  {
   "cell_type": "markdown",
   "metadata": {},
   "source": [
    "<h><b>Извлечение IP-версии:</h></b>\n",
    "Мы сравниваете начальные биты, чтобы определить, является ли адрес частью сети. Если начальные биты совпадают, то адрес является частью сети"
   ]
  },
  {
   "cell_type": "markdown",
   "metadata": {},
   "source": [
    "Последние 8 бит 192.4.2.12 замаскированы (0) и игнорируются при сравнении. И снова модуль ipaddress избавляет нас от любого рода матемаических рассчетов:"
   ]
  },
  {
   "cell_type": "code",
   "execution_count": null,
   "metadata": {},
   "outputs": [],
   "source": [
    ">>> net = IPv4Network(\"192.4.2.0/24\")\n",
    "\n",
    ">>> IPv4Address(\"192.4.2.12\") in net\n",
    "True\n",
    ">>> IPv4Address(\"192.4.20.2\") in net\n",
    "False"
   ]
  },
  {
   "cell_type": "markdown",
   "metadata": {},
   "source": [
    "Это стало возможным благодаря тому сокровищу, которое представляет собой перегрузки оператора, с помощью которого IPv4Network определяется, __contains__() чтобы разрешить проверку на членство (вхождение?) с использованием оператора in."
   ]
  },
  {
   "cell_type": "markdown",
   "metadata": {},
   "source": [
    "Широквещательный адрес - это единственный адрес, который может использоваться для связи со всеми хостами сети:"
   ]
  },
  {
   "cell_type": "code",
   "execution_count": 50,
   "metadata": {},
   "outputs": [
    {
     "data": {
      "text/plain": [
       "IPv4Address('192.4.2.0')"
      ]
     },
     "execution_count": 50,
     "metadata": {},
     "output_type": "execute_result"
    }
   ],
   "source": [
    ">>> net.network_address"
   ]
  },
  {
   "cell_type": "markdown",
   "metadata": {},
   "source": [
    "Если вы подумаете об этом таким образом, вы увидите, как /24 префикс на самом деле переводится в истинное значение IPv4Address:"
   ]
  },
  {
   "cell_type": "code",
   "execution_count": null,
   "metadata": {},
   "outputs": [],
   "source": [
    ">>> net.prefixlen\n",
    "24\n",
    ">>> net.netmask\n",
    "IPv4Address('255.255.255.0')  # 11111111 11111111 11111111 00000000"
   ]
  },
  {
   "cell_type": "markdown",
   "metadata": {},
   "source": [
    "Из этого следует, что мы можем построить сеть АЙПИ4 из двух адресов:"
   ]
  },
  {
   "cell_type": "code",
   "execution_count": null,
   "metadata": {},
   "outputs": [],
   "source": [
    ">>> IPv4Network(\"192.4.2.0/255.255.255.0\")"
   ]
  },
  {
   "cell_type": "markdown",
   "metadata": {},
   "source": [
    "Выше 192.4.2.0- сетевой адрес, а 255.255.255.0 сетевая маска."
   ]
  },
  {
   "cell_type": "markdown",
   "metadata": {},
   "source": [
    "На другом конце спектра в сети находится ее конечный адрес или широковещательный адрес , который представляет собой единственный адрес, который можно использовать для связи со всеми хостами в ее сети:"
   ]
  },
  {
   "cell_type": "code",
   "execution_count": 51,
   "metadata": {},
   "outputs": [
    {
     "data": {
      "text/plain": [
       "IPv4Address('192.4.2.255')"
      ]
     },
     "execution_count": 51,
     "metadata": {},
     "output_type": "execute_result"
    }
   ],
   "source": [
    ">>> net.broadcast_address"
   ]
  },
  {
   "cell_type": "markdown",
   "metadata": {},
   "source": [
    "<h><b>Получение сети из интерфейса:</h></b>"
   ]
  },
  {
   "cell_type": "code",
   "execution_count": 38,
   "metadata": {},
   "outputs": [
    {
     "data": {
      "text/plain": [
       "4"
      ]
     },
     "execution_count": 38,
     "metadata": {},
     "output_type": "execute_result"
    }
   ],
   "source": [
    ">>> from ipaddress import IPv4Network\n",
    ">>> from ipaddress import IPv6Network\n",
    ">>> addr4 = ipaddress.ip_address('192.0.2.1')\n",
    ">>> addr6 = ipaddress.ip_address('2001:db8::1')\n",
    ">>> addr6.version\n",
    ">>> addr4.version\n"
   ]
  },
  {
   "cell_type": "code",
   "execution_count": 43,
   "metadata": {
    "collapsed": true,
    "jupyter": {
     "outputs_hidden": true
    }
   },
   "outputs": [
    {
     "data": {
      "text/plain": [
       "IPv4Network('192.0.2.0/24')"
      ]
     },
     "execution_count": 43,
     "metadata": {},
     "output_type": "execute_result"
    }
   ],
   "source": [
    ">>> from ipaddress import IPv4Network\n",
    ">>> host4 = ipaddress.ip_interface('192.0.2.1/24')\n",
    ">>> host4.network"
   ]
  },
  {
   "cell_type": "code",
   "execution_count": 45,
   "metadata": {},
   "outputs": [
    {
     "data": {
      "text/plain": [
       "IPv6Network('2001:db8::/96')"
      ]
     },
     "execution_count": 45,
     "metadata": {},
     "output_type": "execute_result"
    }
   ],
   "source": [
    ">>> from ipaddress import IPv4Network\n",
    ">>> host6 = ipaddress.ip_interface('2001:db8::1/96')\n",
    ">>> host6.network"
   ]
  },
  {
   "cell_type": "markdown",
   "metadata": {},
   "source": [
    "<h><b>Определение количества отдельных адресов в сети:</h></b>"
   ]
  },
  {
   "cell_type": "code",
   "execution_count": null,
   "metadata": {},
   "outputs": [],
   "source": [
    ">>> net4 = ipaddress.ip_network('192.0.2.0/24')\n",
    ">>> net4.num_addresses\n",
    "256\n",
    ">>> net6 = ipaddress.ip_network('2001:db8::0/96')\n",
    ">>> net6.num_addresses\n",
    "4294967296"
   ]
  },
  {
   "cell_type": "markdown",
   "metadata": {},
   "source": [
    "<h><b> Итерация через «используемые» адреса в сети:</h></b>"
   ]
  },
  {
   "cell_type": "code",
   "execution_count": null,
   "metadata": {},
   "outputs": [],
   "source": [
    ">>> net4 = ipaddress.ip_network('192.0.2.0/24')\n",
    ">>> for x in net4.hosts():\n",
    "...     print(x)  \n",
    "192.0.2.1\n",
    "192.0.2.2\n",
    "192.0.2.3\n",
    "192.0.2.4\n",
    "...\n",
    "192.0.2.252\n",
    "192.0.2.253\n",
    "192.0.2.254"
   ]
  },
  {
   "cell_type": "markdown",
   "metadata": {},
   "source": [
    "Точно так же net.hosts() возвращает генератор, который выдает адреса, показанные выше, за исключением сетевого и широковещательного адресов:"
   ]
  },
  {
   "cell_type": "code",
   "execution_count": null,
   "metadata": {},
   "outputs": [],
   "source": [
    ">>> h = net.hosts()\n",
    ">>> type(h)\n",
    "<class 'generator'>\n",
    ">>> next(h)\n",
    "IPv4Address('192.4.2.1')\n",
    ">>> next(h)\n",
    "IPv4Address('192.4.2.2')"
   ]
  },
  {
   "cell_type": "markdown",
   "metadata": {},
   "source": [
    "<h><b>Получение маски сети (т.е. установленных битов, соответствующих сетевому префиксу) или маски хоста (любых битов, не являющихся частью маски сети):</h></b>"
   ]
  },
  {
   "cell_type": "code",
   "execution_count": 32,
   "metadata": {},
   "outputs": [
    {
     "data": {
      "text/plain": [
       "IPv6Address('::ffff:ffff')"
      ]
     },
     "execution_count": 32,
     "metadata": {},
     "output_type": "execute_result"
    }
   ],
   "source": [
    "net4 = ipaddress.ip_network('192.0.2.0/24')\n",
    "net4.netmask\n",
    "\n",
    "net4.hostmask\n",
    "\n",
    "net6 = ipaddress.ip_network('2001:db8::0/96')\n",
    "net6.netmask\n",
    "\n",
    "net6.hostmask"
   ]
  },
  {
   "cell_type": "markdown",
   "metadata": {},
   "source": [
    "<h><b>Развертование или сжатие адреса:</h></b>"
   ]
  },
  {
   "cell_type": "code",
   "execution_count": null,
   "metadata": {},
   "outputs": [],
   "source": [
    ">>> addr6.exploded\n",
    "'2001:0db8:0000:0000:0000:0000:0000:0001'\n",
    ">>> addr6.compressed\n",
    "'2001:db8::1'\n",
    ">>> net6.exploded\n",
    "'2001:0db8:0000:0000:0000:0000:0000:0000/96'\n",
    ">>> net6.compressed\n",
    "'2001:db8::/96'"
   ]
  },
  {
   "cell_type": "markdown",
   "metadata": {},
   "source": [
    "Хотя IPv4 не поддерживает развертование или сжатие, связанные объекты по-прежнему предоставляют соответствующие свойства, так что нейтральный к версии код может легко гарантировать, что будет использована наиболее лаконичная или наиболее детальная форма  для IPv6 адресов и при этом IPv4 адреса будут обработаны по-прежнему правильно."
   ]
  },
  {
   "cell_type": "markdown",
   "metadata": {},
   "source": [
    "<h1><b>Подсети</h1></b>"
   ]
  },
  {
   "cell_type": "markdown",
   "metadata": {},
   "source": [
    "Подсеть – это часть IP-сети: :"
   ]
  },
  {
   "cell_type": "code",
   "execution_count": null,
   "metadata": {},
   "outputs": [],
   "source": [
    ">>> small_net = IPv4Network(\"192.0.2.0/28\")\n",
    ">>> big_net = IPv4Network(\"192.0.0.0/16\")\n",
    ">>> small_net.subnet_of(big_net)\n",
    "True\n",
    ">>> big_net.supernet_of(small_net)\n",
    "True"
   ]
  },
  {
   "cell_type": "markdown",
   "metadata": {},
   "source": [
    "В коде выше small_net содержит 16 адресов, а big_net – 65 536"
   ]
  },
  {
   "cell_type": "markdown",
   "metadata": {},
   "source": [
    "Если 24 бит не хватает для нумерации всех устройств в подсети, разделение на подсети путем увеличения длины префикса с 24 до 25 подразумевает смещение битов для разделения сети на меньшие части. Возможно, это немного математически сложно. К счастью, для IPv4Network это легко, потому что.subnets() возвращает итератор по подсетям:"
   ]
  },
  {
   "cell_type": "markdown",
   "metadata": {},
   "source": [
    "В передаваемом subnets() аргументе можно задать, каким должен быть новый префикс. Более высокий префикс означает больше подсетей."
   ]
  },
  {
   "cell_type": "code",
   "execution_count": null,
   "metadata": {},
   "outputs": [],
   "source": [
    ">>> for sn in net.subnets(new_prefix=28):\n",
    "...     print(sn)\n",
    "...\n",
    "200.100.10.0/28\n",
    "200.100.10.16/28\n",
    "200.100.10.32/28\n",
    "...\n",
    "200.100.10.208/28\n",
    "200.100.10.224/28\n",
    "200.100.10.240/28"
   ]
  },
  {
   "cell_type": "markdown",
   "metadata": {},
   "source": [
    "<h2><b>Использование IP-адресов с другими модулями</h></b2>"
   ]
  },
  {
   "cell_type": "markdown",
   "metadata": {},
   "source": [
    "Другие модули, использующие IP-адреса (например, socket), обычно не принимают объекты непосредственно из этого модуля. Вместо этого они должны быть приведны к целому числу или строке, которые будет способен принять другой модуль:"
   ]
  },
  {
   "cell_type": "code",
   "execution_count": null,
   "metadata": {},
   "outputs": [],
   "source": [
    ">>> addr4 = ipaddress.ip_address('192.0.2.1')\n",
    ">>> str(addr4)\n",
    "'192.0.2.1'\n",
    ">>> int(addr4)\n",
    "3221225985"
   ]
  },
  {
   "cell_type": "markdown",
   "metadata": {},
   "source": [
    "<h2><b>Получение дополнительных сведений при сбое создания сущности</h2></b>"
   ]
  },
  {
   "cell_type": "markdown",
   "metadata": {},
   "source": [
    "Создавая объекты адреса/сети/интерфейса, используя фабричные функции, о любых ошибках будет сообщено как ValueError с универсальным сообщением об ошибке, в котором просто говорится, что содережимое не быол признанл объектом необходимого типа. Отсутствие четко определенной ошибки - то, почему необходимо знать, является ли значение предполагаемым обьектом IPv4 или IPv6, а для этого необходимо получить больше деталей о том, почему значение было отклонено.\n",
    "\n",
    "Для поддержки сценариев использования, когда полезно иметь доступ к этой дополнительной детали, отдельные конструкторы класс фактически делят ValueError на подклассы ipaddress.AddressValueError и ipaddress.NetmaskValueError, чтобы точно указать, какая часть определения не была правильно проанализирована.\n",
    "\n",
    "Сообщения об ошибках являются значительно более подробными при непосредственном использовании конструкторов классов. Например:"
   ]
  },
  {
   "cell_type": "code",
   "execution_count": null,
   "metadata": {},
   "outputs": [],
   "source": [
    ">>> ipaddress.ip_address(\"192.168.0.256\")\n",
    "Traceback (most recent call last):\n",
    "  ...\n",
    "ValueError: '192.168.0.256' does not appear to be an IPv4 or IPv6 address\n",
    ">>> ipaddress.IPv4Address(\"192.168.0.256\")\n",
    "Traceback (most recent call last):\n",
    "  ...\n",
    "ipaddress.AddressValueError: Octet 256 (> 255) not permitted in '192.168.0.256'\n",
    "\n",
    ">>> ipaddress.ip_network(\"192.168.0.1/64\")\n",
    "Traceback (most recent call last):\n",
    "  ...\n",
    "ValueError: '192.168.0.1/64' does not appear to be an IPv4 or IPv6 network\n",
    ">>> ipaddress.IPv4Network(\"192.168.0.1/64\")\n",
    "Traceback (most recent call last):\n",
    "  ...\n",
    "ipaddress.NetmaskValueError: '64' is not a valid netmask"
   ]
  },
  {
   "cell_type": "markdown",
   "metadata": {},
   "source": [
    "Однако оба исключения модуля имеют ValueError в качестве родительского класса, поэтому, если нет необходимости в получении определенного типа ошибка, можно писать код, как показано ниже:"
   ]
  },
  {
   "cell_type": "code",
   "execution_count": null,
   "metadata": {},
   "outputs": [],
   "source": [
    "try:\n",
    "    network = ipaddress.IPv4Network(address)\n",
    "except ValueError:\n",
    "    print('address/netmask is invalid for IPv4:', address)\n"
   ]
  },
  {
   "cell_type": "markdown",
   "metadata": {},
   "source": [
    "<h1><b>Компоновщик</h1></b>\n",
    "Модуль ipaddress использует преимущества шаблона проектирования «Компоновщик». Класс IPv4Address представляет собой компоновщик, который оборачивает обычное целое число.\n",
    "\n",
    "Каждый экземпляр IPv4Address имеет атрибут _ip, число типа int. Многие свойства и методы класса определяются значением этого атрибута:"
   ]
  },
  {
   "cell_type": "code",
   "execution_count": 19,
   "metadata": {},
   "outputs": [
    {
     "data": {
      "text/plain": [
       "3691907365"
      ]
     },
     "execution_count": 19,
     "metadata": {},
     "output_type": "execute_result"
    }
   ],
   "source": [
    "addr = IPv4Address(\"220.14.9.37\")\n",
    "addr._ip\n",
    "3691907365"
   ]
  },
  {
   "cell_type": "markdown",
   "metadata": {},
   "source": [
    "Атрибут _ip отвечает за создание int(addr). Цепочка вызовов выглядит следующим образом:"
   ]
  },
  {
   "cell_type": "code",
   "execution_count": 20,
   "metadata": {},
   "outputs": [
    {
     "ename": "SyntaxError",
     "evalue": "invalid syntax (<ipython-input-20-de353b0a5ca0>, line 1)",
     "output_type": "error",
     "traceback": [
      "\u001b[1;36m  File \u001b[1;32m\"<ipython-input-20-de353b0a5ca0>\"\u001b[1;36m, line \u001b[1;32m1\u001b[0m\n\u001b[1;33m    int(my_addr) -> my_addr._int() -> my_addr._ip\u001b[0m\n\u001b[1;37m                 ^\u001b[0m\n\u001b[1;31mSyntaxError\u001b[0m\u001b[1;31m:\u001b[0m invalid syntax\n"
     ]
    }
   ],
   "source": [
    "int(my_addr) -> my_addr._int() -> my_addr._ip"
   ]
  },
  {
   "cell_type": "markdown",
   "metadata": {},
   "source": [
    "Убедимся в  силе ._ip путем расширения класса IPv4Address:"
   ]
  },
  {
   "cell_type": "code",
   "execution_count": 21,
   "metadata": {},
   "outputs": [],
   "source": [
    "from ipaddress import IPv4Address\n",
    "\n",
    "class MyIPv4(IPv4Address):\n",
    "    def __and__(self, other: IPv4Address):\n",
    "        if not isinstance(other, (int, IPv4Address)):\n",
    "            raise NotImplementedError\n",
    "        return self.__class__(int(self) & int(other))"
   ]
  },
  {
   "cell_type": "markdown",
   "metadata": {},
   "source": [
    "Добавление .__and__() позволяет использовать бинарный оператор &, чтобы применять маску к IP-адресу:"
   ]
  },
  {
   "cell_type": "code",
   "execution_count": 22,
   "metadata": {},
   "outputs": [
    {
     "data": {
      "text/plain": [
       "MyIPv4('100.64.0.0')"
      ]
     },
     "execution_count": 22,
     "metadata": {},
     "output_type": "execute_result"
    }
   ],
   "source": [
    "addr = MyIPv4(\"100.127.40.32\")\n",
    "mask = MyIPv4(\"255.192.0.0\")  # Соответствует префиксу /10\n",
    "\n",
    "addr & mask\n",
    "\n",
    "addr & 0xffc00000  # hex-литерал для 255.192.0.0\n"
   ]
  },
  {
   "cell_type": "markdown",
   "metadata": {},
   "source": [
    "Метод __and__() позволяет использовать либо другой IPv4Address, либо непосредственно int в качестве маски. Поскольку MyIPv4 является подклассом IPv4Address, проверка isinstance() в данном случае вернет True."
   ]
  },
  {
   "cell_type": "markdown",
   "metadata": {},
   "source": [
    "Помимо перегрузки оператора, есть возможность добавить новые свойства:"
   ]
  },
  {
   "cell_type": "code",
   "execution_count": 24,
   "metadata": {},
   "outputs": [],
   "source": [
    "import re\n",
    "from ipaddress import IPv4Address\n",
    "\n",
    "class MyIPv4(IPv4Address):\n",
    "    @property\n",
    "    def binary_repr(self, sep=\".\") -> str:\n",
    "        \"\"\"Представляет IPv4 в виде 4 блоков по 8 бит.\"\"\"\n",
    "        return sep.join(f\"{i:08b}\" for i in self.packed)  # 8 строка\n",
    "\n",
    "    @classmethod\n",
    "    def from_binary_repr(cls, binary_repr: str):\n",
    "        \"\"\"Создает IPv4 из двоичного представления.\"\"\"\n",
    "        i = int(re.sub(r\"[^01]\", \"\", binary_repr), 2)  # 14 строка\n",
    "        return cls(i)"
   ]
  },
  {
   "cell_type": "markdown",
   "metadata": {},
   "source": [
    "В методе binary_repr (строка 8), используется .packed для преобразования IP-адреса в массив байтов, который затем форматируется, как строковое представление бинарной формы.\n",
    "\n",
    "В from_binary_repr, вызов int(re.sub(r\"[^01]\", \"\", binary_repr), 2) (строка 14) состоит из двух частей:\n",
    "\n",
    "1)удаление из входящей строки всего, кроме нулей и единиц;\n",
    "\n",
    "2)анализ результата с помощью int(<string>, 2).\n",
    "\n",
    "    \n",
    "Методы binary_repr() и from_binary_repr() позволяют так же проводить двустороннюю конвертацию."
   ]
  },
  {
   "cell_type": "code",
   "execution_count": 25,
   "metadata": {},
   "outputs": [
    {
     "data": {
      "text/plain": [
       "MyIPv4('220.14.9.37')"
      ]
     },
     "execution_count": 25,
     "metadata": {},
     "output_type": "execute_result"
    }
   ],
   "source": [
    "MyIPv4(\"220.14.9.37\").binary_repr\n",
    "MyIPv4(\"255.255.0.0\").binary_repr  # Маска для префикса /16 \n",
    "\n",
    "MyIPv4.from_binary_repr(\"11011100 00001110 00001001 00100101\")\n",
    "MyIPv4('220.14.9.37')"
   ]
  },
  {
   "cell_type": "markdown",
   "metadata": {},
   "source": [
    "<h1>Задание</h1>\n",
    "\n",
    "Так как в модуль встроены проверки корректности адресов, можно ими пользоваться, например, чтобы проверить, является ли адрес адресом сети или хоста. Попробуйте сделать это!"
   ]
  },
  {
   "cell_type": "code",
   "execution_count": null,
   "metadata": {},
   "outputs": [],
   "source": []
  }
 ],
 "metadata": {
  "kernelspec": {
   "display_name": "Python 3",
   "language": "python",
   "name": "python3"
  },
  "language_info": {
   "codemirror_mode": {
    "name": "ipython",
    "version": 3
   },
   "file_extension": ".py",
   "mimetype": "text/x-python",
   "name": "python",
   "nbconvert_exporter": "python",
   "pygments_lexer": "ipython3",
   "version": "3.8.5"
  }
 },
 "nbformat": 4,
 "nbformat_minor": 4
}
